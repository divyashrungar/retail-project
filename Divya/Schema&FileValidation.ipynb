{
 "cells": [
  {
   "cell_type": "code",
   "execution_count": 1,
   "id": "db1ed46b",
   "metadata": {},
   "outputs": [],
   "source": [
    "import os\n",
    "import json\n",
    "import shutil"
   ]
  },
  {
   "cell_type": "code",
   "execution_count": 2,
   "id": "33eb2b5f",
   "metadata": {},
   "outputs": [
    {
     "data": {
      "text/plain": [
       "'Retail-data.csv'"
      ]
     },
     "execution_count": 2,
     "metadata": {},
     "output_type": "execute_result"
    }
   ],
   "source": [
    "path=\"Retail-data.csv\"\n",
    "path"
   ]
  },
  {
   "cell_type": "code",
   "execution_count": 3,
   "id": "c2e58228",
   "metadata": {},
   "outputs": [],
   "source": [
    "import pandas as pd\n",
    "import numpy as np\n",
    "import matplotlib.pyplot as plt\n",
    "import seaborn as sns\n",
    "%matplotlib inline"
   ]
  },
  {
   "cell_type": "code",
   "execution_count": 4,
   "id": "03d4380c",
   "metadata": {},
   "outputs": [],
   "source": [
    "df= pd.read_csv(\"Retail_data.csv\")"
   ]
  },
  {
   "cell_type": "code",
   "execution_count": 5,
   "id": "e4ada46c",
   "metadata": {},
   "outputs": [
    {
     "data": {
      "text/plain": [
       "array([dtype('O'), dtype('float64'), dtype('float64'), dtype('float64'),\n",
       "       dtype('float64'), dtype('float64'), dtype('int64'),\n",
       "       dtype('float64'), dtype('float64'), dtype('float64'),\n",
       "       dtype('float64'), dtype('float64'), dtype('float64'),\n",
       "       dtype('float64'), dtype('int64'), dtype('int64'), dtype('int64'),\n",
       "       dtype('O'), dtype('O'), dtype('O'), dtype('O'), dtype('O'),\n",
       "       dtype('O')], dtype=object)"
      ]
     },
     "execution_count": 5,
     "metadata": {},
     "output_type": "execute_result"
    }
   ],
   "source": [
    "df.dtypes.values"
   ]
  },
  {
   "cell_type": "code",
   "execution_count": 6,
   "id": "53ee8552",
   "metadata": {},
   "outputs": [
    {
     "data": {
      "text/plain": [
       "['object',\n",
       " 'float64',\n",
       " 'float64',\n",
       " 'float64',\n",
       " 'float64',\n",
       " 'float64',\n",
       " 'int64',\n",
       " 'float64',\n",
       " 'float64',\n",
       " 'float64',\n",
       " 'float64',\n",
       " 'float64',\n",
       " 'float64',\n",
       " 'float64',\n",
       " 'int64',\n",
       " 'int64',\n",
       " 'int64',\n",
       " 'object',\n",
       " 'object',\n",
       " 'object',\n",
       " 'object',\n",
       " 'object',\n",
       " 'object']"
      ]
     },
     "execution_count": 6,
     "metadata": {},
     "output_type": "execute_result"
    }
   ],
   "source": [
    "a= list(map(lambda x :str(x).replace(\"dtype('\",\"\").replace(\"')\",\"\"),df.dtypes.values))\n",
    "a"
   ]
  },
  {
   "cell_type": "code",
   "execution_count": 7,
   "id": "229059e7",
   "metadata": {},
   "outputs": [
    {
     "data": {
      "text/plain": [
       "{'hour': 'object',\n",
       " 'order_id': 'float64',\n",
       " 'customer_id': 'float64',\n",
       " 'product_id': 'float64',\n",
       " 'product_price': 'float64',\n",
       " 'variant_id': 'float64',\n",
       " 'orders': 'int64',\n",
       " 'gross_sales': 'float64',\n",
       " 'discounts': 'float64',\n",
       " 'returns': 'float64',\n",
       " 'net_sales': 'float64',\n",
       " 'shipping': 'float64',\n",
       " 'taxes': 'float64',\n",
       " 'total_sales': 'float64',\n",
       " 'ordered_item_quantity': 'int64',\n",
       " 'net_quantity': 'int64',\n",
       " 'returned_item_quantity': 'int64',\n",
       " 'order_name': 'object',\n",
       " 'product_type': 'object',\n",
       " 'product_title': 'object',\n",
       " 'product_vendor': 'object',\n",
       " 'variant_title': 'object',\n",
       " 'api_client_title': 'object'}"
      ]
     },
     "execution_count": 7,
     "metadata": {},
     "output_type": "execute_result"
    }
   ],
   "source": [
    "columns= dict(zip(list(df),a))\n",
    "columns"
   ]
  },
  {
   "cell_type": "code",
   "execution_count": 8,
   "id": "96cae3e7",
   "metadata": {},
   "outputs": [],
   "source": [
    "d = df.columns"
   ]
  },
  {
   "cell_type": "code",
   "execution_count": 9,
   "id": "98f88a2f",
   "metadata": {},
   "outputs": [],
   "source": [
    "dict_columns= dict(zip(d,a))"
   ]
  },
  {
   "cell_type": "code",
   "execution_count": 10,
   "id": "722c4748",
   "metadata": {},
   "outputs": [],
   "source": [
    "Columns= {\"Columns\": dict_columns}"
   ]
  },
  {
   "cell_type": "code",
   "execution_count": 11,
   "id": "9e062a56",
   "metadata": {},
   "outputs": [],
   "source": [
    "with open(\"E:/Project/Schema.json\", \"w\") as jsonFile:\n",
    "    json.dump(Columns, jsonFile)"
   ]
  },
  {
   "cell_type": "markdown",
   "id": "cafab1b6",
   "metadata": {},
   "source": [
    "#### File validation"
   ]
  },
  {
   "cell_type": "code",
   "execution_count": 12,
   "id": "54635159",
   "metadata": {},
   "outputs": [
    {
     "name": "stdout",
     "output_type": "stream",
     "text": [
      "Directory 'Correct_data' created successfully\n",
      "Directory 'Incorrect_data' created successfully\n"
     ]
    }
   ],
   "source": [
    "\n",
    "    # Leaf directory \n",
    "directory1 = \"Correct_data\"\n",
    "directory2 ='Incorrect_data'\n",
    "    \n",
    "# Parent Directories \n",
    "parent_dir = \"E:\\Project\"\n",
    "    \n",
    "# Path \n",
    "path1 = os.path.join(parent_dir, directory1)\n",
    "path2 = os.path.join(parent_dir, directory2)\n",
    " \n",
    "# Create the directory\n",
    "try:\n",
    "        os.makedirs(path1, exist_ok = True)\n",
    "        print(\"Directory '%s' created successfully\" %directory1)\n",
    "        os.makedirs(path2, exist_ok = True)\n",
    "        print(\"Directory '%s' created successfully\" %directory2)\n",
    "    \n",
    "except OSError as error:\n",
    "                        print(\"Directory '%s' can not be created\")\n",
    "                        print(\"Directory '%s' can not be created\")\n",
    "   "
   ]
  },
  {
   "cell_type": "code",
   "execution_count": 13,
   "id": "55643025",
   "metadata": {},
   "outputs": [
    {
     "name": "stdout",
     "output_type": "stream",
     "text": [
      "23\n"
     ]
    }
   ],
   "source": [
    "f = open('Schema.json')\n",
    "# a dictionary\n",
    "data = json.load(f)\n",
    "dict_data=pd.DataFrame.from_dict(data) \n",
    "#print(d)\n",
    "print(len(dict_data['columns']))\n",
    "# Closing file\n",
    "f.close()"
   ]
  },
  {
   "cell_type": "code",
   "execution_count": 14,
   "id": "5fd85ec1",
   "metadata": {},
   "outputs": [],
   "source": [
    "def validate(data):\n",
    "    if len(data)==len(dict_data['columns']):\n",
    "        print(\"both are equal!!!\")\n",
    "        shutil.move(tail, \"E:\\Project\\Correct_data\")\n",
    "    else:\n",
    "        print(\"Not EQUAL!!!!\") \n",
    "        shutil.move(tail, \"E:\\Project\\Incorrect_data\")\n",
    "        "
   ]
  },
  {
   "cell_type": "code",
   "execution_count": 18,
   "id": "6954076f",
   "metadata": {},
   "outputs": [
    {
     "name": "stdout",
     "output_type": "stream",
     "text": [
      "E:\\Project\\Data_to_validate\\Retail_data.csv\n",
      "23\n",
      "both are equal!!!\n",
      "E:\\Project\\Data_to_validate\\Retail_data_.csv\n",
      "22\n",
      "Not EQUAL!!!!\n"
     ]
    }
   ],
   "source": [
    "# iterate over files in\n",
    "# that directory\n",
    "directory ='E:\\Project\\Data_to_validate'\n",
    "for filename in os.listdir(directory):\n",
    "    f = os.path.join(directory, filename)\n",
    "    tail = (f)\n",
    "    # checking if it is a file\n",
    "    if os.path.isfile(f):\n",
    "        print(f)\n",
    "        df_columns = pd.read_csv(f)\n",
    "        print(len(df_columns.columns))\n",
    "        validate(df_columns.columns)"
   ]
  },
  {
   "cell_type": "code",
   "execution_count": null,
   "id": "e3af46b8",
   "metadata": {},
   "outputs": [],
   "source": []
  },
  {
   "cell_type": "code",
   "execution_count": null,
   "id": "f7cf82e0",
   "metadata": {},
   "outputs": [],
   "source": []
  },
  {
   "cell_type": "code",
   "execution_count": null,
   "id": "18ef0d8e",
   "metadata": {},
   "outputs": [],
   "source": []
  },
  {
   "cell_type": "code",
   "execution_count": null,
   "id": "99d73217",
   "metadata": {},
   "outputs": [],
   "source": []
  },
  {
   "cell_type": "code",
   "execution_count": null,
   "id": "6e527722",
   "metadata": {},
   "outputs": [],
   "source": []
  }
 ],
 "metadata": {
  "kernelspec": {
   "display_name": "Python 3",
   "language": "python",
   "name": "python3"
  },
  "language_info": {
   "codemirror_mode": {
    "name": "ipython",
    "version": 3
   },
   "file_extension": ".py",
   "mimetype": "text/x-python",
   "name": "python",
   "nbconvert_exporter": "python",
   "pygments_lexer": "ipython3",
   "version": "3.8.8"
  }
 },
 "nbformat": 4,
 "nbformat_minor": 5
}
